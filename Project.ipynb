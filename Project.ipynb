{
 "cells": [
  {
   "cell_type": "code",
   "execution_count": 2,
   "metadata": {},
   "outputs": [],
   "source": [
    "# Standard Headers\n",
    "import pandas as pd\n",
    "import numpy as np\n",
    "import matplotlib.pyplot as plt\n",
    "from sklearn.preprocessing import StandardScaler\n",
    "from sklearn import preprocessing\n",
    "from sklearn.model_selection import train_test_split\n",
    "\n",
    "# Enable inline mode for matplotlib so that Jupyter displays graphs\n",
    "%matplotlib inline"
   ]
  },
  {
   "cell_type": "code",
   "execution_count": 3,
   "metadata": {
    "scrolled": true
   },
   "outputs": [
    {
     "name": "stderr",
     "output_type": "stream",
     "text": [
      "C:\\Users\\ms76497\\AppData\\Local\\Continuum\\anaconda3\\lib\\site-packages\\IPython\\core\\interactiveshell.py:3058: DtypeWarning: Columns (19) have mixed types. Specify dtype option on import or set low_memory=False.\n",
      "  interactivity=interactivity, compiler=compiler, result=result)\n"
     ]
    },
    {
     "data": {
      "text/plain": [
       "(283285, 23)"
      ]
     },
     "execution_count": 3,
     "metadata": {},
     "output_type": "execute_result"
    }
   ],
   "source": [
    "#read the data\n",
    "data = pd.read_csv('vermont.csv', header='infer')\n",
    "data.shape"
   ]
  },
  {
   "cell_type": "code",
   "execution_count": 4,
   "metadata": {
    "scrolled": false
   },
   "outputs": [
    {
     "data": {
      "text/plain": [
       "id                            0\n",
       "state                         0\n",
       "stop_date                     0\n",
       "stop_time                     0\n",
       "location_raw                694\n",
       "county_name                 705\n",
       "county_fips                 705\n",
       "fine_grained_location       347\n",
       "police_department             0\n",
       "driver_gender              1712\n",
       "driver_age_raw             1171\n",
       "driver_age                 1286\n",
       "driver_race_raw            3984\n",
       "driver_race                4817\n",
       "violation_raw              2178\n",
       "violation                  2178\n",
       "search_conducted              0\n",
       "search_type_raw            2240\n",
       "search_type              279866\n",
       "contraband_found             34\n",
       "stop_outcome               2325\n",
       "is_arrested                   0\n",
       "officer_id                   12\n",
       "dtype: int64"
      ]
     },
     "execution_count": 4,
     "metadata": {},
     "output_type": "execute_result"
    }
   ],
   "source": [
    "#all the missing values for each column\n",
    "pd.isnull(data).sum()"
   ]
  },
  {
   "cell_type": "code",
   "execution_count": 5,
   "metadata": {
    "scrolled": true
   },
   "outputs": [
    {
     "name": "stdout",
     "output_type": "stream",
     "text": [
      "mean= 38.805525581327295\n"
     ]
    },
    {
     "data": {
      "text/plain": [
       "id                            0\n",
       "state                         0\n",
       "stop_date                     0\n",
       "stop_time                     0\n",
       "location_raw                  0\n",
       "county_name                   0\n",
       "county_fips                   0\n",
       "fine_grained_location       202\n",
       "police_department             0\n",
       "driver_gender                 0\n",
       "driver_age_raw              767\n",
       "driver_age                    0\n",
       "driver_race_raw               0\n",
       "driver_race                   0\n",
       "violation_raw                 0\n",
       "violation                     0\n",
       "search_conducted              0\n",
       "search_type_raw               0\n",
       "search_type              270902\n",
       "contraband_found              0\n",
       "stop_outcome                  0\n",
       "is_arrested                   0\n",
       "officer_id                    0\n",
       "dtype: int64"
      ]
     },
     "execution_count": 5,
     "metadata": {},
     "output_type": "execute_result"
    }
   ],
   "source": [
    "# Location is needed to build an accurate model so all missing data will be dropped\n",
    "data = data.dropna(subset = ['county_name'])\n",
    "\n",
    "# Drivers gender is also needed so will drop records without gender\n",
    "data = data.dropna(subset = ['driver_gender'])\n",
    "\n",
    "# Drivers race is also needed so will drop records without race\n",
    "data = data.dropna(subset = ['driver_race'])\n",
    "\n",
    "# Violation is also needed so will drop records without violation\n",
    "data = data.dropna(subset = ['violation'])\n",
    "\n",
    "# Search Type Raw, Contraband Found, Stop Outcome and Officer ID only include 500 records for missing values so we will drop these fields too\n",
    "data = data.dropna(subset = ['search_type_raw'])\n",
    "data = data.dropna(subset = ['contraband_found'])\n",
    "data = data.dropna(subset = ['stop_outcome'])\n",
    "data = data.dropna(subset = ['officer_id'])\n",
    "\n",
    "# Drivers age is important but to avoid dropping further data we will fill this in with average age\n",
    "data['driver_age']=data['driver_age'].astype(float) #convert data from strings to floats\n",
    "mean = data['driver_age'].mean()\n",
    "print(\"mean=\", mean)\n",
    "data['driver_age'].fillna(mean, inplace=True)\n",
    "\n",
    "pd.isnull(data).sum()"
   ]
  },
  {
   "cell_type": "code",
   "execution_count": 7,
   "metadata": {},
   "outputs": [
    {
     "data": {
      "text/plain": [
       "(274201, 23)"
      ]
     },
     "execution_count": 7,
     "metadata": {},
     "output_type": "execute_result"
    }
   ],
   "source": [
    "data.shape\n"
   ]
  },
  {
   "cell_type": "code",
   "execution_count": 8,
   "metadata": {
    "scrolled": true
   },
   "outputs": [
    {
     "data": {
      "text/html": [
       "<div>\n",
       "<style scoped>\n",
       "    .dataframe tbody tr th:only-of-type {\n",
       "        vertical-align: middle;\n",
       "    }\n",
       "\n",
       "    .dataframe tbody tr th {\n",
       "        vertical-align: top;\n",
       "    }\n",
       "\n",
       "    .dataframe thead th {\n",
       "        text-align: right;\n",
       "    }\n",
       "</style>\n",
       "<table border=\"1\" class=\"dataframe\">\n",
       "  <thead>\n",
       "    <tr style=\"text-align: right;\">\n",
       "      <th></th>\n",
       "      <th>location_raw</th>\n",
       "      <th>county_fips</th>\n",
       "      <th>police_department</th>\n",
       "      <th>driver_gender</th>\n",
       "      <th>driver_age</th>\n",
       "      <th>driver_race_raw</th>\n",
       "      <th>violation</th>\n",
       "      <th>search_conducted</th>\n",
       "      <th>search_type_raw</th>\n",
       "      <th>contraband_found</th>\n",
       "      <th>stop_outcome</th>\n",
       "    </tr>\n",
       "  </thead>\n",
       "  <tbody>\n",
       "    <tr>\n",
       "      <td>0</td>\n",
       "      <td>East Montpelier</td>\n",
       "      <td>50023.0</td>\n",
       "      <td>MIDDLESEX VSP</td>\n",
       "      <td>M</td>\n",
       "      <td>22.0</td>\n",
       "      <td>White</td>\n",
       "      <td>Moving violation</td>\n",
       "      <td>False</td>\n",
       "      <td>No Search Conducted</td>\n",
       "      <td>False</td>\n",
       "      <td>Citation</td>\n",
       "    </tr>\n",
       "    <tr>\n",
       "      <td>3</td>\n",
       "      <td>Whiting</td>\n",
       "      <td>50001.0</td>\n",
       "      <td>NEW HAVEN VSP</td>\n",
       "      <td>F</td>\n",
       "      <td>18.0</td>\n",
       "      <td>White</td>\n",
       "      <td>Moving violation</td>\n",
       "      <td>False</td>\n",
       "      <td>No Search Conducted</td>\n",
       "      <td>False</td>\n",
       "      <td>Arrest for Violation</td>\n",
       "    </tr>\n",
       "    <tr>\n",
       "      <td>4</td>\n",
       "      <td>Hardwick</td>\n",
       "      <td>50005.0</td>\n",
       "      <td>ROYALTON VSP</td>\n",
       "      <td>M</td>\n",
       "      <td>18.0</td>\n",
       "      <td>White</td>\n",
       "      <td>Moving violation</td>\n",
       "      <td>False</td>\n",
       "      <td>No Search Conducted</td>\n",
       "      <td>False</td>\n",
       "      <td>Written Warning</td>\n",
       "    </tr>\n",
       "    <tr>\n",
       "      <td>5</td>\n",
       "      <td>Hardwick</td>\n",
       "      <td>50005.0</td>\n",
       "      <td>ROYALTON VSP</td>\n",
       "      <td>F</td>\n",
       "      <td>20.0</td>\n",
       "      <td>White</td>\n",
       "      <td>Equipment</td>\n",
       "      <td>False</td>\n",
       "      <td>No Search Conducted</td>\n",
       "      <td>False</td>\n",
       "      <td>Written Warning</td>\n",
       "    </tr>\n",
       "    <tr>\n",
       "      <td>8</td>\n",
       "      <td>Rochester</td>\n",
       "      <td>50027.0</td>\n",
       "      <td>ROCKINGHAM VSP</td>\n",
       "      <td>M</td>\n",
       "      <td>24.0</td>\n",
       "      <td>Black</td>\n",
       "      <td>Moving violation</td>\n",
       "      <td>False</td>\n",
       "      <td>No Search Conducted</td>\n",
       "      <td>False</td>\n",
       "      <td>Written Warning</td>\n",
       "    </tr>\n",
       "  </tbody>\n",
       "</table>\n",
       "</div>"
      ],
      "text/plain": [
       "      location_raw  county_fips police_department driver_gender  driver_age  \\\n",
       "0  East Montpelier      50023.0     MIDDLESEX VSP             M        22.0   \n",
       "3          Whiting      50001.0     NEW HAVEN VSP             F        18.0   \n",
       "4         Hardwick      50005.0      ROYALTON VSP             M        18.0   \n",
       "5         Hardwick      50005.0      ROYALTON VSP             F        20.0   \n",
       "8        Rochester      50027.0    ROCKINGHAM VSP             M        24.0   \n",
       "\n",
       "  driver_race_raw         violation  search_conducted      search_type_raw  \\\n",
       "0           White  Moving violation             False  No Search Conducted   \n",
       "3           White  Moving violation             False  No Search Conducted   \n",
       "4           White  Moving violation             False  No Search Conducted   \n",
       "5           White         Equipment             False  No Search Conducted   \n",
       "8           Black  Moving violation             False  No Search Conducted   \n",
       "\n",
       "  contraband_found          stop_outcome  \n",
       "0            False              Citation  \n",
       "3            False  Arrest for Violation  \n",
       "4            False       Written Warning  \n",
       "5            False       Written Warning  \n",
       "8            False       Written Warning  "
      ]
     },
     "execution_count": 8,
     "metadata": {},
     "output_type": "execute_result"
    }
   ],
   "source": [
    "features_X = data.drop(['id','state','stop_date','stop_time','fine_grained_location','driver_age_raw','violation_raw','search_type','officer_id','county_name','driver_race','is_arrested'], axis = 1)\n",
    "features_X.corr()\n",
    "\n",
    "classLabel_Y = data['is_arrested']\n",
    "features_X.head()"
   ]
  },
  {
   "cell_type": "code",
   "execution_count": 9,
   "metadata": {
    "scrolled": true
   },
   "outputs": [],
   "source": [
    "# label_encoder object knows how to understand word labels. \n",
    "label_encoder = preprocessing.LabelEncoder() \n",
    "\n",
    "# Converting all labels to numbers\n",
    "features_X['location_raw']= label_encoder.fit_transform(features_X['location_raw']) \n",
    "features_X['county_fips']= label_encoder.fit_transform(features_X['county_fips'])\n",
    "features_X['police_department']= label_encoder.fit_transform(features_X['police_department'])\n",
    "features_X['driver_gender']= label_encoder.fit_transform(features_X['driver_gender'])\n",
    "features_X['driver_race_raw']= label_encoder.fit_transform(features_X['driver_race_raw'])\n",
    "features_X['violation']= label_encoder.fit_transform(features_X['violation'])\n",
    "features_X['search_type_raw']= label_encoder.fit_transform(features_X['search_type_raw'])\n",
    "features_X['contraband_found']= label_encoder.fit_transform(features_X['contraband_found'])\n",
    "features_X['stop_outcome']= label_encoder.fit_transform(features_X['stop_outcome'])\n",
    "#features_X['is_arrested']= label_encoder.fit_transform(features_X['is_arrested'])\n",
    "\n"
   ]
  },
  {
   "cell_type": "code",
   "execution_count": 10,
   "metadata": {},
   "outputs": [
    {
     "name": "stdout",
     "output_type": "stream",
     "text": [
      "Counter({False: 270911, True: 3290})\n",
      "Counter({False: 3762, True: 3386})\n"
     ]
    }
   ],
   "source": [
    "import imblearn\n",
    "from collections import Counter\n",
    "from imblearn.over_sampling import SMOTE\n",
    "from imblearn.over_sampling import SMOTE\n",
    "from imblearn.under_sampling import RandomUnderSampler\n",
    "from sklearn.svm import SVC \n",
    "from sklearn.model_selection import GridSearchCV\n",
    "from sklearn.model_selection import cross_val_score\n",
    "from sklearn.model_selection import cross_val_predict\n",
    "import sklearn as sk\n",
    "from sklearn.decomposition import PCA\n",
    "from sklearn.pipeline import Pipeline\n",
    "#number of true/false in class label before balancing data\n",
    "counter = Counter(classLabel_Y)\n",
    "print(counter)\n",
    "#the data needs to be balanced\n",
    "#oversampeling the minority class with smote\n",
    "oversample = SMOTE(sampling_strategy=0.0125)\n",
    "data_X, data_Y = oversample.fit_resample(features_X, classLabel_Y)\n",
    "#undersampeling the majority class\n",
    "under = RandomUnderSampler(sampling_strategy=0.9)\n",
    "data_X, data_Y = under.fit_resample(data_X, data_Y)\n",
    "#number of true/false in class label afrer balancing data\n",
    "counter = Counter(data_Y)\n",
    "print(counter)\n",
    "\n",
    "data_X = pd.DataFrame(data_X)"
   ]
  },
  {
   "cell_type": "code",
   "execution_count": 11,
   "metadata": {},
   "outputs": [
    {
     "name": "stdout",
     "output_type": "stream",
     "text": [
      "Accuracy: 69.45836220959455\n",
      "              precision    recall  f1-score   support\n",
      "\n",
      "       False       0.63      0.99      0.77      3762\n",
      "        True       0.97      0.37      0.53      3386\n",
      "\n",
      "    accuracy                           0.69      7148\n",
      "   macro avg       0.80      0.68      0.65      7148\n",
      "weighted avg       0.79      0.69      0.66      7148\n",
      "\n"
     ]
    }
   ],
   "source": [
    "from sklearn.naive_bayes import GaussianNB\n",
    "from sklearn.metrics import classification_report\n",
    "#classifing with naive bayes\n",
    "clf = GaussianNB()\n",
    "scores = cross_val_score(clf, data_X, data_Y, cv=10) \n",
    "predicts = cross_val_predict(clf, data_X, data_Y, cv=10) \n",
    "\n",
    "print(\"Accuracy:\", scores.mean()*100)\n",
    "print(classification_report(data_Y, predicts))"
   ]
  },
  {
   "cell_type": "code",
   "execution_count": 14,
   "metadata": {},
   "outputs": [
    {
     "name": "stdout",
     "output_type": "stream",
     "text": [
      "99.79015109121433\n",
      "{'knn__n_neighbors': 2, 'pca__n_components': 3}\n"
     ]
    }
   ],
   "source": [
    "from sklearn.neighbors import KNeighborsClassifier\n",
    "\n",
    "#for knn we need to scale data and use pca reduction\n",
    "scaler = sk.preprocessing.MinMaxScaler()\n",
    "pca = PCA()\n",
    "knn = KNeighborsClassifier()\n",
    "\n",
    "pipe = Pipeline(steps=[('scaler', scaler), ('pca', pca), ('knn', knn)])\n",
    "\n",
    "param_grid = {\n",
    "    'knn__n_neighbors': list(range(2, 30)),  \n",
    "    'pca__n_components': list(range(2, 11))\n",
    "}\n",
    "\n",
    "grid_search = GridSearchCV(pipe, param_grid, cv=10, scoring='accuracy')\n",
    "grid_search.fit(data_X, data_Y)\n",
    "\n",
    "print(grid_search.best_score_*100)\n",
    "print(grid_search.best_params_)"
   ]
  },
  {
   "cell_type": "code",
   "execution_count": null,
   "metadata": {},
   "outputs": [],
   "source": [
    "\n",
    "#predicts = cross_val_predict(grid_search, data_X, data_Y, cv=10) \n",
    "#print(classification_report(data_Y, predicts))\n",
    "nested_score = cross_val_score(grid_search, data_X, data_Y, cv=10)\n",
    "\n",
    "print(\"Accuracy:\", nested_score.mean()*100)"
   ]
  },
  {
   "cell_type": "code",
   "execution_count": null,
   "metadata": {},
   "outputs": [],
   "source": []
  }
 ],
 "metadata": {
  "kernelspec": {
   "display_name": "Python 3",
   "language": "python",
   "name": "python3"
  },
  "language_info": {
   "codemirror_mode": {
    "name": "ipython",
    "version": 3
   },
   "file_extension": ".py",
   "mimetype": "text/x-python",
   "name": "python",
   "nbconvert_exporter": "python",
   "pygments_lexer": "ipython3",
   "version": "3.7.4"
  }
 },
 "nbformat": 4,
 "nbformat_minor": 2
}
